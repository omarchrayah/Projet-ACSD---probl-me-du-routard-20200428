{
 "cells": [
  {
   "cell_type": "code",
   "execution_count": 1,
   "metadata": {},
   "outputs": [],
   "source": [
    "Q = {\n",
    "    'a': {'b':1, 'c':1,'d':2 ,'e':2},\n",
    "     'b': {'a':1, 'c':5, 'd':2 ,'e':2},\n",
    "     'c': {'a':1, 'b':5, 'd':4},\n",
    "     'd' : {'a':2 , 'b':6 , 'c':4},\n",
    "    'e' : {'a':2 , 'b':2}\n",
    "    }"
   ]
  },
  {
   "cell_type": "code",
   "execution_count": null,
   "metadata": {},
   "outputs": [],
   "source": [
    "H= {\n",
    "    'a': {'b':1.54, 'c':2.97},\n",
    "     'b': {'a':1.54, 'f':5, 'c':10.5},\n",
    "     'c': {'a':2.97, 'b':10.5, 'f':2.33, 'e':4.25},\n",
    "     'd': {'f':8.01, 'e':3.73},\n",
    "     'e': {'c':4.25, 'd':3.73}, \n",
    "     'f': {'b':5, 'c':2.33, 'd':8.01} \n",
    "    }"
   ]
  },
  {
   "cell_type": "code",
   "execution_count": null,
   "metadata": {},
   "outputs": [],
   "source": [
    "\n",
    "J= {\n",
    "    'a' : {'f':4.5,'b':2,'d':6.6,'e':0.5},\n",
    "    'b' : {'a':2, 'f':0.5, 'd':7,'c':3.5},\n",
    "    'c' : {'f':20, 'b':3.5,'d':18.7,'e':9},\n",
    "    'd' : {'a':6.6, 'b':7,'c':18.7,'e':1.7},\n",
    "    'e' : {'c':9, 'd':1.7,'a':0.5},\n",
    "    'f' : {'a':4.5, 'b':0.5,'c':20}\n",
    "   }\n"
   ]
  },
  {
   "cell_type": "code",
   "execution_count": 2,
   "metadata": {},
   "outputs": [
    {
     "data": {
      "text/plain": [
       "['a', 'c']"
      ]
     },
     "execution_count": 2,
     "metadata": {},
     "output_type": "execute_result"
    }
   ],
   "source": [
    "from priority_dict import priority_dict\n",
    "\n",
    "def dijkstra(G,posInit,posFinal):#on s'intéresse à la recherche d'un plus court chemin dans un graphe entre deux sommets donnés.\n",
    "    d={}\n",
    "    pi={}\n",
    "    F=priority_dict()#creer la file de priorite\n",
    "    trajet=[posFinal]#liste contenante le sommet d'arrivé\n",
    "    \n",
    "    for v in G : #on ajouter dans la file de priorité les sommets avec leurs distances\n",
    "        d[v]=float('+infinity')\n",
    "        pi[v]=None\n",
    "        \n",
    "    \n",
    "    d[posInit]=0 #initialiser tout à 0 pour le sommet de depart\n",
    "    F[posInit]=0\n",
    "  \n",
    "    while F :\n",
    "        u= F.pop_smallest() #extraire le sommet de plus petite distance\n",
    "        for v in  G[u] : #relacher\n",
    "            if d[v] > d[u] + G[u][v] :\n",
    "                d[v] = d[u] + G[u][v]\n",
    "                pi[v]=u\n",
    "                F[v]=d[u]+G[u][v]\n",
    "                \n",
    "                \n",
    "    #return d\n",
    "    \n",
    "    #\n",
    "    pere=pi[posFinal] #la variable pere prendre la valeur de la clé posFinal \n",
    "    while pere :\n",
    "        trajet.insert(0,pere)\n",
    "        pere=pi[pere]\n",
    " \n",
    "    return trajet    #on retourne le chemin que j'ai crée en remontant les peres\n",
    "        \n",
    "   \n",
    "    \n",
    "dijkstra(Q,'a','c')       "
   ]
  },
  {
   "cell_type": "code",
   "execution_count": 3,
   "metadata": {},
   "outputs": [
    {
     "data": {
      "text/plain": [
       "{'c': None, 'a': 'c', 'b': 'a', 'd': 'a', 'e': 'a'}"
      ]
     },
     "execution_count": 3,
     "metadata": {},
     "output_type": "execute_result"
    }
   ],
   "source": [
    "import random\n",
    "from priority_dict import priority_dict\n",
    "def prim(G): #on trouve un sous - ensemble des arêtes formant un arbre qui inclut chaque sommet , où le poids total de tous les bords de l'arbre est réduit au minimum\n",
    "    s=random.choice(list(G.keys())) #On choisit un sommet s aléatoirement\n",
    "\n",
    "    F=priority_dict() #creer la file de priorite\n",
    "    pi={} #creer un dico vide qui va contenir les peres\n",
    "    for i in (list(G.keys())) :\n",
    "        F[i]=float('+infinity')\n",
    "    F[s] = 0\n",
    "    pi[s] = None #initialiser le sommet initial avec une valeur None\n",
    "    \n",
    "    while F :\n",
    "        u=F.pop_smallest() \n",
    "        for v in (list(G[u].keys())): #pour chaque v appartient à l'adjacent de de u \n",
    "            if v in F and  G[u][v] <F[v] : #si v appartient à F et le poids entre u et v est inferieur à clé[v]\n",
    "                pi[v]=u \n",
    "                F[v]=G[u][v] #clé[v] prends le poids entre u et v \n",
    "            \n",
    "    return pi #on retourne le dico qui contient les peres \n",
    "prim(Q)"
   ]
  },
  {
   "cell_type": "code",
   "execution_count": 4,
   "metadata": {},
   "outputs": [
    {
     "data": {
      "text/plain": [
       "['b', 'a', 'c', 'd', 'e']"
      ]
     },
     "execution_count": 4,
     "metadata": {},
     "output_type": "execute_result"
    }
   ],
   "source": [
    "def prefixe(T):\n",
    "    liste=[]\n",
    "    k=dict()\n",
    "    \n",
    "    \n",
    "    def recursive(x):\n",
    "        for i in T.keys(): #dans cette boucle for , on transforme le dico des peres que prim a retourné en une liste qui contient les sommets et leurs fils\n",
    "            if i in T.values():\n",
    "                k[i]= [key for key, value in T.items() if value == i] #recupere les clés qui ont la meme valeur \n",
    "            else:\n",
    "                k[i]=list()\n",
    "        \n",
    "        if k[x]!='': # on verifie si le sommet a bien les fils \n",
    "            liste.insert(len(liste),x) #inserer le sommet à la fin de la liste \n",
    "            for pos in range (0,len(k[x])):\n",
    "                for j in (k[x][pos]): #on parcourit les fils suivant leurs positions \n",
    "                    recursive(j)\n",
    "        else : #sinon , si le sommet n'as pas de fils on ajoute jste le sommet à la fin de la liste \n",
    "            liste.insert(len(liste),x)\n",
    "        return liste\n",
    "    return recursive(list(T.keys())[0]) #on recupere  le sommet initial \n",
    "\n",
    "prefixe(prim(Q))    \n",
    "                        \n",
    "        "
   ]
  },
  {
   "cell_type": "code",
   "execution_count": 8,
   "metadata": {},
   "outputs": [
    {
     "data": {
      "text/plain": [
       "['b', 'a', 'c', 'a', 'd', 'a', 'e', 'b']"
      ]
     },
     "execution_count": 8,
     "metadata": {},
     "output_type": "execute_result"
    }
   ],
   "source": [
    "def RoutardApprox(G) :\n",
    "    P=prim(G)\n",
    "    rho=prefixe(P)\n",
    "    sigma=list()\n",
    "    sigma.insert(len(sigma),rho[0]) #on insere le sommet initial de position 0 de la liste qui renvoie le parcours prefixe , dans sigma\n",
    "    for i in range(0, len(rho)-1):\n",
    "        mu=dijkstra(G,rho[i],rho[i+1]) #calculer le plus court chemin entre rho[i] et rho[i+1] , on la stock dans la variable mu \n",
    "        del mu[0] #on retire de mu le premier sommet de position 0\n",
    "        sigma.extend(mu) #ajouter mu à la fin de sigma\n",
    "    #On referme le cycle σ en revenant au point de départ : \n",
    "    mu=dijkstra(G,rho[-1],rho[0]) \n",
    "    del mu[0]\n",
    "    sigma.extend(mu)\n",
    "    \n",
    "    \n",
    "    return sigma #retourner la sequence sigma\n",
    "                \n",
    "RoutardApprox(Q)"
   ]
  },
  {
   "cell_type": "code",
   "execution_count": null,
   "metadata": {},
   "outputs": [],
   "source": []
  }
 ],
 "metadata": {
  "kernelspec": {
   "display_name": "Python 3",
   "language": "python",
   "name": "python3"
  },
  "language_info": {
   "codemirror_mode": {
    "name": "ipython",
    "version": 3
   },
   "file_extension": ".py",
   "mimetype": "text/x-python",
   "name": "python",
   "nbconvert_exporter": "python",
   "pygments_lexer": "ipython3",
   "version": "3.7.4"
  }
 },
 "nbformat": 4,
 "nbformat_minor": 2
}
